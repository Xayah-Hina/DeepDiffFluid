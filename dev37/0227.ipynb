{
 "cells": [
  {
   "metadata": {},
   "cell_type": "markdown",
   "source": [
    "base_app\n",
    "- new_scene\n",
    "- directory\n",
    "- image_dir\n",
    "- get_image_dir\n",
    "- progress\n",
    "- invalidate\n",
    "- step\n",
    "- fieldnames\n",
    "- get_field\n",
    "- add_field\n",
    "- actions\n",
    "- add_action\n",
    "- run_action\n",
    "- traits\n",
    "- add_trait\n",
    "- controls\n",
    "- prepare\n",
    "- _add_default_fields\n",
    "- add_custom_property\n",
    "- add_custom_properties\n",
    "- _update_scene_properties\n",
    "- settings_str\n",
    "- custom_properties\n",
    "- info\n",
    "- debug\n",
    "- scene_summary\n",
    "- show\n",
    "- status\n",
    "- run_step\n",
    "- play\n",
    "- pause\n",
    "- running\n",
    "- record_frame\n",
    "- benchmark\n",
    "- config_recording\n",
    "\n",
    "App\n",
    "- prepare\n",
    "- add_scalar\n",
    "- editable_float\n",
    "- editable_int\n",
    "- editable_values_dict\n",
    "- get_editable_value\n",
    "- set_editable_value\n",
    "\n",
    "LearningApp\n",
    "- prepare\n",
    "- set_learning_rate\n",
    "- set_data\n",
    "- _init_numpy_iterators\n",
    "- _init_tf_pipeline\n",
    "- add_objective\n",
    "- step\n",
    "- optimization_step\n",
    "- on_training_set_end\n",
    "- validation_step\n",
    "- base_feed_dict\n",
    "- _feed_dict\n",
    "- view_reader\n",
    "- _view_dataset\n",
    "- view\n",
    "- viewed_batch\n",
    "- view_batch\n",
    "- save_model\n",
    "- load_model\n",
    "- model_scope\n",
    "- add_field\n",
    "\n",
    "ControlTraining\n",
    "- add_all_fields\n",
    "- load_checkpoints\n",
    "- action_save_model\n",
    "- step\n",
    "- infer_all_frames\n",
    "- infer_scalars"
   ],
   "id": "cdf1f8bc9f5846e5"
  },
  {
   "metadata": {},
   "cell_type": "code",
   "source": [
    "from phi.tf.session import Session\n",
    "from phi.data.fluidformat import Scene\n",
    "from phi.physics.world import World\n",
    "from phi.physics.domain import Domain\n",
    "from src.control.pde.incompressible_flow import IncompressibleFluidPDE\n",
    "from src.control.hierarchy import PDEExecutor\n",
    "from src.control.sequences import StaggeredSequence\n",
    "import tensorflow as tf"
   ],
   "id": "fe6a690696e8078f",
   "outputs": [],
   "execution_count": null
  },
  {
   "metadata": {},
   "cell_type": "code",
   "source": [
    "batch_size = 16\n",
    "domain = Domain([64, 64])\n",
    "dt = 1.0\n",
    "step_count = 16\n",
    "obs_loss_frames = [step_count]\n",
    "trainable_networks = ['CFE', 'OP2', 'OP4', 'OP8', 'OP16']\n",
    "learning_rate = 5e-4\n",
    "reg_scale = 1.0"
   ],
   "id": "4842a550fe6e9a48",
   "outputs": [],
   "execution_count": null
  },
  {
   "metadata": {},
   "cell_type": "code",
   "source": [
    "config = tf.ConfigProto()\n",
    "scene = Scene.create(\"data\", None, count=1, mkdir=True, copy_calling_script=False)\n",
    "session = Session(scene, session=tf.Session(config=config))\n",
    "world = World(batch_size=batch_size)\n",
    "pde = IncompressibleFluidPDE(domain, dt)\n",
    "pde.create_pde(world, 'CFE' in trainable_networks, True)\n",
    "world.state = pde.placeholder_state(world, 0)\n",
    "target_state = pde.placeholder_state(world, step_count * dt)\n",
    "in_states = [world.state] + [None] * (step_count - 1) + [target_state]\n",
    "\n",
    "executor = PDEExecutor(world, pde, target_state, trainable_networks, dt)\n",
    "sequence = StaggeredSequence(step_count, executor)\n",
    "sequence.execute()\n",
    "\n",
    "all_states = [frame.worldstate for frame in sequence if frame is not None]"
   ],
   "id": "a14cd31330437593",
   "outputs": [],
   "execution_count": null
  },
  {
   "metadata": {},
   "cell_type": "code",
   "source": [
    "loss = 0\n",
    "target_loss = pde.target_matching_loss(target_state, sequence[-1].worldstate)\n",
    "reg = pde.total_force_loss([state for state in all_states if state is not None])\n",
    "loss += target_loss\n",
    "for frame in obs_loss_frames:\n",
    "    supervised_loss = pde.target_matching_loss(in_states[frame], sequence[frame].worldstate)\n",
    "    loss += supervised_loss"
   ],
   "id": "1b2c83fc01f504fb",
   "outputs": [],
   "execution_count": null
  },
  {
   "metadata": {},
   "cell_type": "code",
   "source": [
    "all_optimizers = []\n",
    "optimizer = tf.train.AdamOptimizer(learning_rate)\n",
    "optim_function = loss + reg\n",
    "\n",
    "node = optimizer.minimize(optim_function, var_list=None)\n",
    "all_optimizers.append(node)"
   ],
   "id": "aa7fdde80f7bc184",
   "outputs": [],
   "execution_count": null
  },
  {
   "metadata": {},
   "cell_type": "code",
   "source": [
    "def info(message):\n",
    "    print(str(message))"
   ],
   "id": "e8c83a97f18e237b",
   "outputs": [],
   "execution_count": null
  },
  {
   "metadata": {},
   "cell_type": "code",
   "source": [
    "session.initialize_variables()\n",
    "\n",
    "supervised_checkpoints = {'OP%d' % n: 'ckpts/supervised/OP%d_1000' % n for n in [2, 4, 8, 16]}\n",
    "supervised_checkpoints['CFE'] = 'ckpts/CFE/CFE_1000'\n",
    "executor.load(step_count, supervised_checkpoints, preload_n=True, session=session, logf=info)"
   ],
   "id": "d2503eb61e866899",
   "outputs": [],
   "execution_count": null
  },
  {
   "metadata": {},
   "cell_type": "code",
   "source": [
    "def optimization_step(optim_nodes, log_loss=None):\n",
    "    try:\n",
    "        optim_nodes = list(optim_nodes)\n",
    "    except:\n",
    "        optim_nodes = [optim_nodes]\n"
   ],
   "id": "379af34bb95ac3df",
   "outputs": [],
   "execution_count": null
  },
  {
   "metadata": {},
   "cell_type": "code",
   "source": [
    "import tqdm\n",
    "\n",
    "for _ in tqdm.tqdm(range(1000)):\n",
    "    world.step(dt=dt)"
   ],
   "id": "8f6515ad2a98044c",
   "outputs": [],
   "execution_count": null
  }
 ],
 "metadata": {
  "kernelspec": {
   "display_name": "Python 3",
   "language": "python",
   "name": "python3"
  },
  "language_info": {
   "codemirror_mode": {
    "name": "ipython",
    "version": 2
   },
   "file_extension": ".py",
   "mimetype": "text/x-python",
   "name": "python",
   "nbconvert_exporter": "python",
   "pygments_lexer": "ipython2",
   "version": "2.7.6"
  }
 },
 "nbformat": 4,
 "nbformat_minor": 5
}
