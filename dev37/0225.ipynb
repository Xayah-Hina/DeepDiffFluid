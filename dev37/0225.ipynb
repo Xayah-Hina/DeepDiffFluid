{
 "cells": [
  {
   "cell_type": "code",
   "id": "initial_id",
   "metadata": {
    "collapsed": true
   },
   "source": [
    "from phi.flow import *\n",
    "from matplotlib import pyplot as plt\n",
    "import numpy as np\n",
    "import random"
   ],
   "outputs": [],
   "execution_count": null
  },
  {
   "metadata": {},
   "cell_type": "code",
   "source": [
    "step_count = 16  # how many solver steps to perform\n",
    "domain = Domain([64, 64])\n",
    "dt = 1.0\n",
    "data_path = 'shape-transitions'\n",
    "test_range = range(100)\n",
    "val_range = range(100, 200)\n",
    "train_range = range(200, 1000)"
   ],
   "id": "3bcbc03f5c4c581a",
   "outputs": [],
   "execution_count": null
  },
  {
   "metadata": {},
   "cell_type": "code",
   "source": [
    "supervised_checkpoints = {'OP%d' % n: 'ckpts/supervised/OP%d_1000' % n for n in [2, 4, 8, 16]}\n",
    "supervised_checkpoints['CFE'] = 'ckpts/CFE/CFE_1000'"
   ],
   "id": "1fbf457f6053f1ec",
   "outputs": [],
   "execution_count": null
  },
  {
   "metadata": {},
   "cell_type": "code",
   "source": [
    "from src.control.control_training import ControlTraining\n",
    "from src.control.pde.incompressible_flow import IncompressibleFluidPDE\n",
    "from src.control.sequences import StaggeredSequence\n",
    "\n",
    "staggered_app = ControlTraining(step_count, IncompressibleFluidPDE(domain, dt),\n",
    "                                datapath=data_path, val_range=val_range, train_range=train_range,\n",
    "                                trace_to_channel=lambda _: 'density',\n",
    "                                obs_loss_frames=[step_count], trainable_networks=['CFE', 'OP2', 'OP4', 'OP8', 'OP16'],\n",
    "                                sequence_class=StaggeredSequence, learning_rate=5e-4).prepare()\n",
    "staggered_app.load_checkpoints(supervised_checkpoints)\n",
    "for i in range(1000):\n",
    "    staggered_app.progress()  # run staggered Optimization for one batch\n",
    "staggered_checkpoint = staggered_app.save_model()"
   ],
   "id": "7dbdbdb60a8c4ac",
   "outputs": [],
   "execution_count": null
  },
  {
   "metadata": {},
   "cell_type": "code",
   "source": "states = staggered_app.infer_all_frames(test_range)",
   "id": "a6056fc208231b22",
   "outputs": [],
   "execution_count": null
  },
  {
   "metadata": {},
   "cell_type": "code",
   "source": [
    "import pylab\n",
    "\n",
    "batches = [5]\n",
    "\n",
    "pylab.subplots(len(batches), 10, sharey='row', sharex='col', figsize=(14, 6))\n",
    "pylab.tight_layout(w_pad=0)\n",
    "\n",
    "# solutions\n",
    "for i, batch in enumerate(batches):\n",
    "    for t in range(9):\n",
    "        pylab.subplot(len(batches), 10, t + 1 + i * 10)\n",
    "        pylab.title('t=%d' % (t * 2))\n",
    "        pylab.imshow(states[t * 2].density.data[batch, ..., 0], origin='lower')\n",
    "\n",
    "# add targets\n",
    "testset = BatchReader(Dataset.load(staggered_app.data_path, test_range), staggered_app._channel_struct)[test_range]\n",
    "for i, batch in enumerate(batches):\n",
    "    pylab.subplot(len(batches), 10, i * 10 + 10)\n",
    "    pylab.title('target')\n",
    "    pylab.imshow(testset[1][i, ..., 0], origin='lower')\n"
   ],
   "id": "5176f4e0dfa38aaf",
   "outputs": [],
   "execution_count": null
  },
  {
   "metadata": {},
   "cell_type": "code",
   "source": [
    "errors = []\n",
    "for batch in enumerate(test_range):\n",
    "    initial = np.mean( np.abs( states[0].density.data[batch, ..., 0] - testset[1][batch,...,0] ))\n",
    "    solution = np.mean( np.abs( states[16].density.data[batch, ..., 0] - testset[1][batch,...,0] ))\n",
    "    errors.append( solution/initial )\n",
    "print(\"Relative MAE: \"+format(np.mean(errors)))"
   ],
   "id": "feb28e21e943b93a",
   "outputs": [],
   "execution_count": null
  }
 ],
 "metadata": {
  "kernelspec": {
   "display_name": "Python 3",
   "language": "python",
   "name": "python3"
  },
  "language_info": {
   "codemirror_mode": {
    "name": "ipython",
    "version": 2
   },
   "file_extension": ".py",
   "mimetype": "text/x-python",
   "name": "python",
   "nbconvert_exporter": "python",
   "pygments_lexer": "ipython2",
   "version": "2.7.6"
  }
 },
 "nbformat": 4,
 "nbformat_minor": 5
}
