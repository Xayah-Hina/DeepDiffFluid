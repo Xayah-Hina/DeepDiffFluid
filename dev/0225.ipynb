{
 "cells": [
  {
   "cell_type": "code",
   "id": "initial_id",
   "metadata": {
    "collapsed": true,
    "ExecuteTime": {
     "end_time": "2025-02-24T07:56:06.833089Z",
     "start_time": "2025-02-24T07:56:04.524431Z"
    }
   },
   "source": [
    "import phi.physics._boundaries\n",
    "from phi.torch.flow import *\n",
    "\n",
    "math.set_global_precision(32)\n",
    "TORCH.set_default_device(\"GPU\")\n",
    "device = torch.device(\"cuda\")"
   ],
   "outputs": [],
   "execution_count": 1
  },
  {
   "metadata": {
    "ExecuteTime": {
     "end_time": "2025-02-24T08:26:42.969506Z",
     "start_time": "2025-02-24T08:26:42.964259Z"
    }
   },
   "cell_type": "code",
   "source": [
    "RE_FAC_SOL = 10 / (128 * 128)\n",
    "import phi.physics.diffuse\n",
    "\n",
    "\n",
    "class KarmanFlow:\n",
    "    def __init__(self, domain):\n",
    "        self.domain = domain\n",
    "        self.vel_BcMask = self.domain.staggered_grid(HardGeometryMask(Box(y=(None, 5), x=None)))\n",
    "        self.inflow = self.domain.scalar_grid(Box(y=(5, 10), x=(25, 75)))  # scale with domain if necessary!\n",
    "        self.obstacles = [Obstacle(Sphere(center=tensor([50, 50], channel(vector=\"y,x\")), radius=10))]\n",
    "        self.solve_info = {}\n",
    "\n",
    "    def step(self, marker_in, velocity_in, Re, res, dt=1.0):\n",
    "        velocity = velocity_in\n",
    "        marker = marker_in\n",
    "        Re_phiflow = Re / RE_FAC_SOL\n",
    "        velocity = phi.physics.diffuse.explicit(u=velocity, diffusivity=1.0 / Re_phiflow * dt * res * res, dt=dt)\n",
    "        velocity = velocity * (1.0 - self.vel_BcMask) + self.vel_BcMask * (1, 0)\n",
    "        marker = advect.semi_lagrangian(marker + 1. * self.inflow, velocity, dt=dt)\n",
    "        velocity = advected_velocity = advect.semi_lagrangian(velocity, velocity, dt=dt)\n",
    "        velocity, pressure = fluid.make_incompressible(velocity, self.obstacles)\n",
    "        self.solve_info = {'pressure': pressure, 'advected_velocity': advected_velocity}\n",
    "        return [marker, velocity]"
   ],
   "id": "df125ce2ca13873a",
   "outputs": [],
   "execution_count": 21
  },
  {
   "metadata": {
    "ExecuteTime": {
     "end_time": "2025-02-24T08:09:01.999167Z",
     "start_time": "2025-02-24T08:09:01.989315Z"
    }
   },
   "cell_type": "code",
   "source": [
    "network = res_net(in_channels=3, out_channels=2, layers=[32, 32, 32])\n",
    "for m in network.modules():\n",
    "    if isinstance(m, torch.nn.Conv2d):\n",
    "        torch.nn.init.xavier_uniform_(m.weight, gain=0.1)\n",
    "optimizer = adam(network, 1e-3)"
   ],
   "id": "47a92646ef2bade2",
   "outputs": [],
   "execution_count": 10
  },
  {
   "metadata": {
    "ExecuteTime": {
     "end_time": "2025-02-24T08:10:32.027902Z",
     "start_time": "2025-02-24T08:10:27.762598Z"
    }
   },
   "cell_type": "code",
   "source": [
    "import pbdl.torch.loader\n",
    "\n",
    "MSTEPS = 4\n",
    "BATCH_SIZE = 3\n",
    "dataloader = pbdl.torch.loader.Dataloader(\"solver-in-the-loop-wake-flow\", MSTEPS, shuffle=True,\n",
    "                                          sel_sims=[0, 1, 2, 3, 4, 5],\n",
    "                                          batch_size=BATCH_SIZE, normalize_const=\"std\", normalize_data=\"std\",\n",
    "                                          intermediate_time_steps=True)"
   ],
   "id": "7e7e853a2df5fd36",
   "outputs": [
    {
     "name": "stdout",
     "output_type": "stream",
     "text": [
      "\u001B[Kdownload completed\t ━━━━━━━━━━━━━━━━━━━━━━━━━━━━━━━━━━━━━━━━━━━━━━━━━━\u001B[38;5;240m\u001B[96m 100%\u001B[0m6m\u001B[96m\u001B[96m\u001B[96m\u001B[96m\u001B[96m\n",
      "\u001B[96m\u001B[1mSuccess:\u001B[22m Loaded solver-in-the-loop-wake-flow with 10 simulations (6 selected) and 496 samples each.\u001B[0m\n",
      "\u001B[1mInfo:\u001B[22m No precomputed normalization data found (or not complete). Calculating data...\u001B[0m\n"
     ]
    }
   ],
   "execution_count": 12
  },
  {
   "metadata": {
    "ExecuteTime": {
     "end_time": "2025-02-24T08:17:03.089131Z",
     "start_time": "2025-02-24T08:17:03.084273Z"
    }
   },
   "cell_type": "code",
   "source": [
    "SOURCE_RES = [64, 32]\n",
    "BNDS = {\n",
    "    'y': (phi.physics._boundaries.OPEN, phi.physics._boundaries.OPEN),\n",
    "    'x': (phi.physics._boundaries.STICKY, phi.physics._boundaries.STICKY)\n",
    "}\n",
    "LENGTH = 100.\n",
    "domain = phi.physics._boundaries.Domain(y=SOURCE_RES[0], x=SOURCE_RES[1], boundaries=BNDS,\n",
    "                                        bounds=Box(y=2 * LENGTH, x=LENGTH))\n",
    "simulator = KarmanFlow(domain=domain)"
   ],
   "id": "4c5a003d3a8a2502",
   "outputs": [
    {
     "name": "stderr",
     "output_type": "stream",
     "text": [
      "C:\\Users\\xayah\\AppData\\Local\\Temp\\ipykernel_25276\\3899897705.py:7: DeprecationWarning: Domain is deprecated and will be removed in a future release. Use a dict instead, e.g. CenteredGrid(values, extrapolation, **domain_dict)\n",
      "  domain = phi.physics._boundaries.Domain(y=SOURCE_RES[0], x=SOURCE_RES[1], boundaries=BNDS, bounds=Box(y=2*LENGTH, x=LENGTH))\n",
      "C:\\Users\\xayah\\AppData\\Local\\Temp\\ipykernel_25276\\3899897705.py:7: FutureWarning: Domain is deprecated and will be removed in a future release. Use a dict instead, e.g. CenteredGrid(values, extrapolation, **domain_dict)\n",
      "  domain = phi.physics._boundaries.Domain(y=SOURCE_RES[0], x=SOURCE_RES[1], boundaries=BNDS, bounds=Box(y=2*LENGTH, x=LENGTH))\n"
     ]
    }
   ],
   "execution_count": 20
  },
  {
   "metadata": {},
   "cell_type": "code",
   "outputs": [],
   "execution_count": null,
   "source": [
    "@jit_compile\n",
    "def simulation_step(marker,velocity,Re,resolution):\n",
    "    m,v = simulator.step(\n",
    "        marker_in=marker,\n",
    "        velocity_in=velocity,\n",
    "        Re=Re, res=resolution\n",
    "    )\n",
    "    return m,v"
   ],
   "id": "7919badd3966245f"
  },
  {
   "metadata": {
    "ExecuteTime": {
     "end_time": "2025-02-24T12:14:55.878701Z",
     "start_time": "2025-02-24T12:14:55.792091Z"
    }
   },
   "cell_type": "code",
   "source": [
    "ip = None\n",
    "tg = None\n",
    "for batch_idx, (inputs, targets) in enumerate(dataloader):\n",
    "    print(f\"Batch {batch_idx}\")\n",
    "    print(inputs.shape, targets.shape)\n",
    "    ip = inputs\n",
    "    tg = targets\n",
    "    break\n",
    "import matplotlib.pyplot as plt\n",
    "plt.imshow(tg[2, 2, 2].numpy())"
   ],
   "id": "a33d97d359230cc2",
   "outputs": [
    {
     "name": "stdout",
     "output_type": "stream",
     "text": [
      "Batch 0\n",
      "torch.Size([3, 4, 65, 32]) torch.Size([3, 4, 3, 65, 32])\n"
     ]
    },
    {
     "data": {
      "text/plain": [
       "<matplotlib.image.AxesImage at 0x1a3760e25d0>"
      ]
     },
     "execution_count": 39,
     "metadata": {},
     "output_type": "execute_result"
    },
    {
     "data": {
      "text/plain": [
       "<Figure size 640x480 with 1 Axes>"
      ],
      "image/png": "[encoded data removed]"
     },
     "metadata": {},
     "output_type": "display_data"
    }
   ],
   "execution_count": 39
  }
 ],
 "metadata": {
  "kernelspec": {
   "display_name": "Python 3",
   "language": "python",
   "name": "python3"
  },
  "language_info": {
   "codemirror_mode": {
    "name": "ipython",
    "version": 2
   },
   "file_extension": ".py",
   "mimetype": "text/x-python",
   "name": "python",
   "nbconvert_exporter": "python",
   "pygments_lexer": "ipython2",
   "version": "2.7.6"
  }
 },
 "nbformat": 4,
 "nbformat_minor": 5
}
